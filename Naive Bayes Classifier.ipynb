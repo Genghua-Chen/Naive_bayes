{
 "cells": [
  {
   "cell_type": "markdown",
   "metadata": {},
   "source": [
    "<!-- # Predicting Stock Change With Python\n",
    "> Scrapying, analyzing, and notificating stock change, inspired by this [blog](https://towardsdatascience.com/predicting-stock-prices-with-python-ec1d0c9bece1)\n",
    "- toc: true \n",
    "- badges: true\n",
    "- comments: true\n",
    "- author: Genghua Chen\n",
    "- annotations: true\n",
    "<!-- - image: https://g.foolcdn.com/editorial/images/663842/why-amzn-stock-is- -->\n",
    "<!-- - hide: false -->"
   ]
  },
  {
   "cell_type": "markdown",
   "metadata": {},
   "source": [
    "&emsp;&emsp;A Naive Bayes classifier is a simple conditional probabilistic algorithm based on applying Bayes' theorem (Bayesian statistics) with naive assumptions, which is assumed that the probability of each feature belonged to the true label is independently with other features and given the exactly same weights on the predcting power. Naive Bayes classifier is a very popular and powerful algorithm in machine learning area and data science fields for classification problem. It popular because it is simple, extremely fast, and based on the understanding of the algorithm to tune the hyper-parameters and then we will have the surprisingly well model for many different kinds of problems. And this is the reason why it is so popular, and it also is the core tool for machine learning and artificial intelligence."
   ]
  },
  {
   "cell_type": "markdown",
   "metadata": {},
   "source": [
    "&emsp;&emsp;There is a really good example to demonstrate the formula above. It is a economics puzzles which helps me to understand the mechanics of Naive Bayes. Two psychologists argued about whether a person is a farmer or a librarian. The discription of a person is \"Steve is very **shy and withdrawn**, invariably helpful but with very little interest in people or in the world of reality. **A meek and tidy soul**, he has a need for order and structure, and a passion for detail.\" Rationally thinking about this discription of steve, people might think he is a librarian since the key words \"shy\", \"tidy\" and \"meek\" appeared, so steve is more likely to be a librarian. However, the point of this question is not really asking whether a person is a farmer or a librarian, people only use their first impressions to make judgement, and they don't take into account the ratio of farmers to librarians in reality(ratio: 20:1). Statistically, steve is more likely to be a farmer than a librarian, even though there are many words might showing that the steve is a librarian, but we still cannot omit the statistic of the farmer and libraian. That is Naive Bayes assumption, all the features are independt and the weights of features are the same."
   ]
  },
  {
   "cell_type": "markdown",
   "metadata": {},
   "source": [
    "The formula of the Naive Bayes is:\n",
    "\n",
    "$$\n",
    "P(C~|~{\\rm features}) = \\frac{P({\\rm features}~|~C)P(C)}{P({\\rm features})}\n",
    "$$\n",
    "\n",
    "Explaination:\n",
    "\n",
    "P(C): Probability a hypothesis is true.\n",
    "\n",
    "\n",
    "\n",
    "P(features|C): Probability of seeing the evidence if the hypothesis is true.\n",
    "\n",
    "\n",
    "P(features): Probability of seeing the evidence.\n"
   ]
  },
  {
   "cell_type": "code",
   "execution_count": 1,
   "metadata": {},
   "outputs": [],
   "source": [
    "# jupyter nbconvert --to pdf naive_bayes.ipynb --no-input\n",
    "# tidy industrious kindness"
   ]
  },
  {
   "cell_type": "code",
   "execution_count": 2,
   "metadata": {},
   "outputs": [],
   "source": [
    "%%capture \n",
    "print('hello world')"
   ]
  },
  {
   "cell_type": "code",
   "execution_count": 3,
   "metadata": {},
   "outputs": [],
   "source": [
    "import numpy as np\n",
    "import pandas as pd\n",
    "import scipy.stats as stats\n",
    "import matplotlib.pyplot as plt\n",
    "import seaborn as sns\n",
    "from sklearn import datasets\n",
    "import pandas as pd\n",
    "sns.set(style=\"whitegrid\")"
   ]
  },
  {
   "cell_type": "code",
   "execution_count": 4,
   "metadata": {},
   "outputs": [
    {
     "name": "stdout",
     "output_type": "stream",
     "text": [
      "(100, 4) (100,)\n",
      "(50, 4) (50,)\n"
     ]
    }
   ],
   "source": [
    "iris = datasets.load_iris()\n",
    "df = pd.DataFrame(data= np.c_[iris['data'], iris['target']],\n",
    "                     columns= iris['feature_names'] + ['target'])\n",
    "\n",
    "df = df.sample(frac=1, random_state=1)\n",
    "\n",
    "X, y = df.iloc[:, :-1], df.iloc[:, -1]\n",
    "\n",
    "X_train, X_test, y_train, y_test = X[:100], X[100:], y[:100], y[100:]\n",
    "\n",
    "print(X_train.shape, y_train.shape)\n",
    "print(X_test.shape, y_test.shape)"
   ]
  },
  {
   "cell_type": "code",
   "execution_count": 5,
   "metadata": {},
   "outputs": [
    {
     "data": {
      "text/plain": [
       "[[0.11739784946236563,\n",
       "  0.11298924731182801,\n",
       "  0.02511827956989247,\n",
       "  0.009225806451612906],\n",
       " [0.2198387096774194,\n",
       "  0.08539314516129025,\n",
       "  0.19161290322580646,\n",
       "  0.03318548387096776],\n",
       " [0.3665765765765765,\n",
       "  0.11654654654654656,\n",
       "  0.33780780780780784,\n",
       "  0.06085585585585581]]"
      ]
     },
     "execution_count": 5,
     "metadata": {},
     "output_type": "execute_result"
    }
   ],
   "source": [
    "X_train.groupby(y_train).var().values.tolist()"
   ]
  },
  {
   "cell_type": "code",
   "execution_count": 6,
   "metadata": {},
   "outputs": [
    {
     "data": {
      "text/plain": [
       "array([[0.11739785, 0.11298925, 0.02511828, 0.00922581],\n",
       "       [0.21983871, 0.08539315, 0.1916129 , 0.03318548],\n",
       "       [0.36657658, 0.11654655, 0.33780781, 0.06085586]])"
      ]
     },
     "execution_count": 6,
     "metadata": {},
     "output_type": "execute_result"
    }
   ],
   "source": [
    "X_train.groupby(y_train).var().to_numpy()"
   ]
  },
  {
   "cell_type": "code",
   "execution_count": 7,
   "metadata": {},
   "outputs": [
    {
     "data": {
      "text/plain": [
       "9"
      ]
     },
     "execution_count": 7,
     "metadata": {},
     "output_type": "execute_result"
    }
   ],
   "source": [
    "l = [1,2,3,4,5,6,7, 9,8,9]\n",
    "len(list(set(l)))"
   ]
  },
  {
   "cell_type": "code",
   "execution_count": 104,
   "metadata": {},
   "outputs": [],
   "source": [
    "class NaiveBayesClassifier():\n",
    "    \n",
    "    def __init__(self, X, y):\n",
    "        self.X = X\n",
    "        self.y = y\n",
    "        \n",
    "        self.len_y = len(y)\n",
    "        self.unique_y = list(set(y))\n",
    "        self.unique_len_y = len(list(set(y)))\n",
    "        \n",
    "        \n",
    "    def fit(self, X, y):\n",
    "        \n",
    "        self._process_prior(y)\n",
    "        self._process_mean_var(X, y)\n",
    "        \n",
    "        # return self.mean, self.var\n",
    "    \n",
    "    def predict(self, X):\n",
    "        pred = []\n",
    "        X = X.iloc[0:3]\n",
    "        for i in X.values:\n",
    "            a = self.posterior(i)\n",
    "            pred.append(a)\n",
    "        return pred\n",
    "    \n",
    "    \n",
    "    def posterior(self, X):\n",
    "        posterior = []\n",
    "        for i in self.unique_y:\n",
    "            i = int(i)\n",
    "            prior = self.prior[i]\n",
    "            conditional = self._process_conditional(X, i=i)\n",
    "            # print(conditional)\n",
    "            pos = prior * conditional\n",
    "            posterior.append(pos)\n",
    "        # print(self.unique_y)\n",
    "        return self.unique_y[np.argmax(posterior)]\n",
    "    \n",
    "    \n",
    "    def _process_prior(self, y):\n",
    "        # ratio of each \n",
    "        self.prior =[]\n",
    "        for i in self.unique_y:\n",
    "            b = list(y).count(i)\n",
    "\n",
    "            a = b / self.len_y\n",
    "            self.prior.append(a)\n",
    "            \n",
    "        return self.prior\n",
    "    \n",
    "    \n",
    "    def _gaussian(self, mean, var, X):\n",
    "        \n",
    "        gau_num = ((np.exp((-1/2)*((X-mean)**2) / (2 * var))))\n",
    "        gau_deno = np.sqrt(2 * np.pi * var)\n",
    "        gau = gau_num / gau_deno\n",
    "        self.gau = np.sum(gau)        \n",
    "        print(self.gau)\n",
    "        return self.gau\n",
    "    \n",
    "    \n",
    "    def _process_mean_var(self, X, y):\n",
    "        \n",
    "        self.mean = X.groupby(y).mean().values\n",
    "        self.var = X.groupby(y).var().values\n",
    "        \n",
    "        return self.mean, self.var\n",
    "    \n",
    "    \n",
    "    def _process_conditional(self, X, i):\n",
    "        \n",
    "\n",
    "        self.conditional = self._gaussian(self.mean[i], self.var[i], X)\n",
    "        return self.conditional\n",
    "    \n",
    "\n",
    "\n",
    "        \n",
    "        "
   ]
  },
  {
   "cell_type": "code",
   "execution_count": 105,
   "metadata": {},
   "outputs": [
    {
     "data": {
      "text/plain": [
       "array([0., 1., 0., 1., 1., 0., 1., 0., 0., 2., 2., 2., 0., 0., 1., 0., 2.,\n",
       "       0., 2., 2., 0., 2., 0., 1., 0., 1., 1., 0., 0., 1., 0., 1., 1., 0.,\n",
       "       1., 1., 1., 1., 2., 0., 0., 2., 1., 2., 1., 2., 2., 1., 2., 0.])"
      ]
     },
     "execution_count": 105,
     "metadata": {},
     "output_type": "execute_result"
    }
   ],
   "source": [
    "y_test.values"
   ]
  },
  {
   "cell_type": "code",
   "execution_count": 106,
   "metadata": {},
   "outputs": [],
   "source": [
    "nb = NaiveBayesClassifier(X_train.values, y_train.values)\n",
    "nb.fit(X_train, y_train)\n"
   ]
  },
  {
   "cell_type": "code",
   "execution_count": 107,
   "metadata": {},
   "outputs": [
    {
     "name": "stdout",
     "output_type": "stream",
     "text": [
      "5.367986176561921\n",
      "0.8121892156601042\n",
      "0.34095737801583825\n",
      "0.6753791826670533\n",
      "4.85350490906133\n",
      "1.5008669528871363\n",
      "6.382966232865144\n",
      "0.7634868388111924\n",
      "0.4448065644288556\n"
     ]
    },
    {
     "data": {
      "text/plain": [
       "[0.0, 1.0, 0.0]"
      ]
     },
     "execution_count": 107,
     "metadata": {},
     "output_type": "execute_result"
    }
   ],
   "source": [
    "nb.predict(X_test)"
   ]
  },
  {
   "cell_type": "code",
   "execution_count": 35,
   "metadata": {},
   "outputs": [
    {
     "data": {
      "text/plain": [
       "[23]"
      ]
     },
     "execution_count": 35,
     "metadata": {},
     "output_type": "execute_result"
    }
   ],
   "source": [
    "x = np.arange(24).reshape((2, 3, 4))\n",
    "x[np.argmax(x)]"
   ]
  },
  {
   "cell_type": "code",
   "execution_count": 23,
   "metadata": {},
   "outputs": [],
   "source": [
    "iris = datasets.load_iris()\n",
    "df = pd.DataFrame(data= np.c_[iris['data'], iris['target']],\n",
    "                     columns= iris['feature_names'] + ['target'])"
   ]
  },
  {
   "cell_type": "code",
   "execution_count": 24,
   "metadata": {},
   "outputs": [],
   "source": []
  },
  {
   "cell_type": "code",
   "execution_count": 25,
   "metadata": {},
   "outputs": [
    {
     "data": {
      "text/html": [
       "<div>\n",
       "<style scoped>\n",
       "    .dataframe tbody tr th:only-of-type {\n",
       "        vertical-align: middle;\n",
       "    }\n",
       "\n",
       "    .dataframe tbody tr th {\n",
       "        vertical-align: top;\n",
       "    }\n",
       "\n",
       "    .dataframe thead th {\n",
       "        text-align: right;\n",
       "    }\n",
       "</style>\n",
       "<table border=\"1\" class=\"dataframe\">\n",
       "  <thead>\n",
       "    <tr style=\"text-align: right;\">\n",
       "      <th></th>\n",
       "      <th>sepal length (cm)</th>\n",
       "      <th>sepal width (cm)</th>\n",
       "      <th>petal length (cm)</th>\n",
       "      <th>petal width (cm)</th>\n",
       "      <th>target</th>\n",
       "    </tr>\n",
       "  </thead>\n",
       "  <tbody>\n",
       "    <tr>\n",
       "      <th>0</th>\n",
       "      <td>5.1</td>\n",
       "      <td>3.5</td>\n",
       "      <td>1.4</td>\n",
       "      <td>0.2</td>\n",
       "      <td>0.0</td>\n",
       "    </tr>\n",
       "    <tr>\n",
       "      <th>1</th>\n",
       "      <td>4.9</td>\n",
       "      <td>3.0</td>\n",
       "      <td>1.4</td>\n",
       "      <td>0.2</td>\n",
       "      <td>0.0</td>\n",
       "    </tr>\n",
       "    <tr>\n",
       "      <th>2</th>\n",
       "      <td>4.7</td>\n",
       "      <td>3.2</td>\n",
       "      <td>1.3</td>\n",
       "      <td>0.2</td>\n",
       "      <td>0.0</td>\n",
       "    </tr>\n",
       "    <tr>\n",
       "      <th>3</th>\n",
       "      <td>4.6</td>\n",
       "      <td>3.1</td>\n",
       "      <td>1.5</td>\n",
       "      <td>0.2</td>\n",
       "      <td>0.0</td>\n",
       "    </tr>\n",
       "    <tr>\n",
       "      <th>4</th>\n",
       "      <td>5.0</td>\n",
       "      <td>3.6</td>\n",
       "      <td>1.4</td>\n",
       "      <td>0.2</td>\n",
       "      <td>0.0</td>\n",
       "    </tr>\n",
       "    <tr>\n",
       "      <th>...</th>\n",
       "      <td>...</td>\n",
       "      <td>...</td>\n",
       "      <td>...</td>\n",
       "      <td>...</td>\n",
       "      <td>...</td>\n",
       "    </tr>\n",
       "    <tr>\n",
       "      <th>145</th>\n",
       "      <td>6.7</td>\n",
       "      <td>3.0</td>\n",
       "      <td>5.2</td>\n",
       "      <td>2.3</td>\n",
       "      <td>2.0</td>\n",
       "    </tr>\n",
       "    <tr>\n",
       "      <th>146</th>\n",
       "      <td>6.3</td>\n",
       "      <td>2.5</td>\n",
       "      <td>5.0</td>\n",
       "      <td>1.9</td>\n",
       "      <td>2.0</td>\n",
       "    </tr>\n",
       "    <tr>\n",
       "      <th>147</th>\n",
       "      <td>6.5</td>\n",
       "      <td>3.0</td>\n",
       "      <td>5.2</td>\n",
       "      <td>2.0</td>\n",
       "      <td>2.0</td>\n",
       "    </tr>\n",
       "    <tr>\n",
       "      <th>148</th>\n",
       "      <td>6.2</td>\n",
       "      <td>3.4</td>\n",
       "      <td>5.4</td>\n",
       "      <td>2.3</td>\n",
       "      <td>2.0</td>\n",
       "    </tr>\n",
       "    <tr>\n",
       "      <th>149</th>\n",
       "      <td>5.9</td>\n",
       "      <td>3.0</td>\n",
       "      <td>5.1</td>\n",
       "      <td>1.8</td>\n",
       "      <td>2.0</td>\n",
       "    </tr>\n",
       "  </tbody>\n",
       "</table>\n",
       "<p>150 rows × 5 columns</p>\n",
       "</div>"
      ],
      "text/plain": [
       "     sepal length (cm)  sepal width (cm)  petal length (cm)  petal width (cm)  \\\n",
       "0                  5.1               3.5                1.4               0.2   \n",
       "1                  4.9               3.0                1.4               0.2   \n",
       "2                  4.7               3.2                1.3               0.2   \n",
       "3                  4.6               3.1                1.5               0.2   \n",
       "4                  5.0               3.6                1.4               0.2   \n",
       "..                 ...               ...                ...               ...   \n",
       "145                6.7               3.0                5.2               2.3   \n",
       "146                6.3               2.5                5.0               1.9   \n",
       "147                6.5               3.0                5.2               2.0   \n",
       "148                6.2               3.4                5.4               2.3   \n",
       "149                5.9               3.0                5.1               1.8   \n",
       "\n",
       "     target  \n",
       "0       0.0  \n",
       "1       0.0  \n",
       "2       0.0  \n",
       "3       0.0  \n",
       "4       0.0  \n",
       "..      ...  \n",
       "145     2.0  \n",
       "146     2.0  \n",
       "147     2.0  \n",
       "148     2.0  \n",
       "149     2.0  \n",
       "\n",
       "[150 rows x 5 columns]"
      ]
     },
     "execution_count": 25,
     "metadata": {},
     "output_type": "execute_result"
    }
   ],
   "source": [
    "X, y = df.iloc[:, :-1], df.iloc[:, -1]\n",
    "X_train, X_test, y_train, y_test = X[:100], X[100:], y[:100], y[100:]"
   ]
  },
  {
   "cell_type": "code",
   "execution_count": null,
   "metadata": {},
   "outputs": [],
   "source": [
    "x.calc_prior(X_train, y_train)"
   ]
  },
  {
   "cell_type": "code",
   "execution_count": null,
   "metadata": {},
   "outputs": [],
   "source": [
    "x.prior"
   ]
  },
  {
   "cell_type": "code",
   "execution_count": null,
   "metadata": {},
   "outputs": [],
   "source": []
  },
  {
   "cell_type": "code",
   "execution_count": 107,
   "metadata": {},
   "outputs": [
    {
     "data": {
      "text/plain": [
       "9"
      ]
     },
     "execution_count": 107,
     "metadata": {},
     "output_type": "execute_result"
    }
   ],
   "source": [
    "class abc():\n",
    "\n",
    "\n",
    "    def __init__(self, ls):\n",
    "        self.a = len(ls)\n",
    "        \n",
    "\n",
    "    def b(self):\n",
    "        \n",
    "        return self.a\n",
    "    \n",
    "\n",
    "def a():\n",
    "    return 20\n",
    "\n",
    "\n",
    "a = abc([1,2,3,4,5,6,7,8,9])\n",
    "a.b()"
   ]
  },
  {
   "cell_type": "code",
   "execution_count": null,
   "metadata": {},
   "outputs": [],
   "source": []
  },
  {
   "cell_type": "code",
   "execution_count": null,
   "metadata": {},
   "outputs": [],
   "source": []
  },
  {
   "cell_type": "code",
   "execution_count": null,
   "metadata": {},
   "outputs": [],
   "source": []
  }
 ],
 "metadata": {
  "kernelspec": {
   "display_name": "Python 3.7.4 ('base')",
   "language": "python",
   "name": "python3"
  },
  "language_info": {
   "codemirror_mode": {
    "name": "ipython",
    "version": 3
   },
   "file_extension": ".py",
   "mimetype": "text/x-python",
   "name": "python",
   "nbconvert_exporter": "python",
   "pygments_lexer": "ipython3",
   "version": "3.7.4"
  },
  "orig_nbformat": 4,
  "vscode": {
   "interpreter": {
    "hash": "cc8ec5a4a564fb5001075d1b69bd0fab6e4c7967725783b97451713cbf5ce9b7"
   }
  }
 },
 "nbformat": 4,
 "nbformat_minor": 2
}
